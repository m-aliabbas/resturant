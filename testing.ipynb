{
 "cells": [
  {
   "cell_type": "code",
   "execution_count": 1,
   "metadata": {},
   "outputs": [
    {
     "name": "stdout",
     "output_type": "stream",
     "text": [
      "Closest match for 'chken' is: chicken\n",
      "Closest match for 'poultry' is: mutton\n"
     ]
    }
   ],
   "source": [
    "import difflib\n",
    "\n",
    "def find_closest_match(items, query):\n",
    "    match = difflib.get_close_matches(query, items, n=1, cutoff=0.0)\n",
    "    \n",
    "    if not match:\n",
    "        return None\n",
    "    \n",
    "    return match[0]\n",
    "\n",
    "a = ['chicken', 'mutton', 'beef']\n",
    "\n",
    "query1 = 'chken'\n",
    "result1 = find_closest_match(a, query1)\n",
    "print(f\"Closest match for '{query1}' is: {result1}\")\n",
    "\n",
    "query2 = 'poultry'\n",
    "result2 = find_closest_match(a, query2)\n",
    "print(f\"Closest match for '{query2}' is: {result2}\")"
   ]
  },
  {
   "cell_type": "code",
   "execution_count": 1,
   "metadata": {},
   "outputs": [],
   "source": [
    "a=[\"a\"]"
   ]
  },
  {
   "cell_type": "code",
   "execution_count": 2,
   "metadata": {},
   "outputs": [
    {
     "name": "stdout",
     "output_type": "stream",
     "text": [
      " Your list is ['a']\n"
     ]
    }
   ],
   "source": [
    "print(f' Your list is {a}')"
   ]
  },
  {
   "cell_type": "code",
   "execution_count": null,
   "metadata": {},
   "outputs": [],
   "source": []
  }
 ],
 "metadata": {
  "kernelspec": {
   "display_name": "Python 3",
   "language": "python",
   "name": "python3"
  },
  "language_info": {
   "codemirror_mode": {
    "name": "ipython",
    "version": 3
   },
   "file_extension": ".py",
   "mimetype": "text/x-python",
   "name": "python",
   "nbconvert_exporter": "python",
   "pygments_lexer": "ipython3",
   "version": "3.11.1 (main, Dec 31 2022, 10:23:59) [GCC 12.2.0]"
  },
  "orig_nbformat": 4,
  "vscode": {
   "interpreter": {
    "hash": "ead1b95f633dc9c51826328e1846203f51a198c6fb5f2884a80417ba131d4e82"
   }
  }
 },
 "nbformat": 4,
 "nbformat_minor": 2
}
